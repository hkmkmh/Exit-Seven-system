{
  "nbformat": 4,
  "nbformat_minor": 0,
  "metadata": {
    "colab": {
      "provenance": [],
      "gpuType": "T4"
    },
    "kernelspec": {
      "name": "python3",
      "display_name": "Python 3"
    },
    "language_info": {
      "name": "python"
    },
    "accelerator": "GPU"
  },
  "cells": [
    {
      "cell_type": "code",
      "source": [
        "# Install necessary packages (uncomment if needed)\n",
        "!pip install ultralytics\n",
        "!pip install supervision"
      ],
      "metadata": {
        "id": "SGLHLibowjCI"
      },
      "execution_count": null,
      "outputs": []
    },
    {
      "cell_type": "code",
      "source": [
        "from google.colab import drive\n",
        "drive.mount('/content/drive')"
      ],
      "metadata": {
        "id": "_3M_h_Z58Lo5"
      },
      "execution_count": null,
      "outputs": []
    },
    {
      "cell_type": "code",
      "execution_count": null,
      "metadata": {
        "id": "6SDMyDKOzQAS"
      },
      "outputs": [],
      "source": [
        "import cv2\n",
        "import numpy as np\n",
        "import csv\n",
        "from ultralytics import YOLO\n",
        "import supervision as sv\n",
        "from google.colab.patches import cv2_imshow\n",
        "from datetime import datetime\n",
        "from shapely.geometry import Polygon, box as shapely_box"
      ]
    },
    {
      "cell_type": "code",
      "source": [
        "# Load the model\n",
        "model = YOLO('/content/drive/MyDrive/Model/training_final_upgrade2/weights/best.pt')\n"
      ],
      "metadata": {
        "id": "rFs5aQFew_BM"
      },
      "execution_count": null,
      "outputs": []
    },
    {
      "cell_type": "code",
      "source": [
        "video_path = '/content/drive/MyDrive/IMG_9295.MOV'\n",
        "\n",
        "# Capture the video\n",
        "cap = cv2.VideoCapture(video_path)\n",
        "# Get video properties\n",
        "width = int(cap.get(cv2.CAP_PROP_FRAME_WIDTH))\n",
        "height = int(cap.get(cv2.CAP_PROP_FRAME_HEIGHT))\n",
        "fps = int(cap.get(cv2.CAP_PROP_FPS))\n",
        "total_frames = int(cap.get(cv2.CAP_PROP_FRAME_COUNT))\n",
        "\n",
        "\n",
        "print(f\"Video dimensions: {width}x{height}\")\n",
        "print(f\"FPS: {fps}\")\n",
        "print(f\"Total frames: {total_frames}\")\n"
      ],
      "metadata": {
        "id": "sYNRNbM5ww4k"
      },
      "execution_count": null,
      "outputs": []
    },
    {
      "cell_type": "code",
      "source": [
        "# Define the codec and create VideoWriter object\n",
        "fourcc = cv2.VideoWriter_fourcc(*'mp4v')  # Codec for .mp4 files\n",
        "output_path = '/content/output_09.mp4' # Path where the output video will be saved\n",
        "out = cv2.VideoWriter(output_path, fourcc, fps, (width, height))"
      ],
      "metadata": {
        "id": "b_oqAdvTwxYT"
      },
      "execution_count": null,
      "outputs": []
    },
    {
      "cell_type": "markdown",
      "source": [
        "#Empty space inside ROI"
      ],
      "metadata": {
        "id": "2Aiumskr4M9-"
      }
    },
    {
      "cell_type": "code",
      "source": [
        "# Adjust detection threshold\n",
        "model.conf = 0.15\n",
        "\n",
        "# Define the callback function for inference\n",
        "def callback(image: np.ndarray) -> sv.Detections:\n",
        "    result = model(image)[0]  # Get the first result\n",
        "    return sv.Detections.from_ultralytics(result)  # Convert to Detections object\n",
        "\n",
        "# Define the slicer object with the callback function\n",
        "slicer = sv.InferenceSlicer(callback=callback)\n",
        "\n",
        "# Define your ROI for counting vehicles\n",
        "right_roi = np.array([[400, 700], [-250, 1850], [1600, 1850], [720, 700]], np.int32)\n",
        "right_roi_polygon = Polygon(right_roi.reshape(-1, 2))\n",
        "\n",
        "# Function to calculate IoU\n",
        "def box_iou(box1, box2):\n",
        "    x1_inter = max(box1[0], box2[0])\n",
        "    y1_inter = max(box1[1], box2[1])\n",
        "    x2_inter = min(box1[2], box2[2])\n",
        "    y2_inter = min(box1[3], box2[3])\n",
        "\n",
        "    inter_area = max(0, x2_inter - x1_inter) * max(0, y2_inter - y1_inter)\n",
        "\n",
        "    box1_area = (box1[2] - box1[0]) * (box1[3] - box1[1])\n",
        "    box2_area = (box2[2] - box2[0]) * (box2[3] - box2[1])\n",
        "\n",
        "    union_area = box1_area + box2_area - inter_area\n",
        "\n",
        "    return inter_area / union_area if union_area > 0 else 0\n",
        "\n",
        "\n",
        "# حساب المساحة الإجمالية لمنطقة الاهتمام (ROI)\n",
        "roi_area = right_roi_polygon.area\n",
        "\n",
        "# Initialize video capture (assuming `cap` is defined)\n",
        "if not cap.isOpened():\n",
        "    print(\"Error: Could not open video.\")\n",
        "    exit()\n",
        "\n",
        "# Get video FPS\n",
        "fps = cap.get(cv2.CAP_PROP_FPS)\n",
        "frame_interval = 1\n",
        "\n",
        "frame_count = 0\n",
        "heavy_frame_counter = 0\n",
        "medium_or_flow_counter = 0\n",
        "\n",
        "# CSV file setup\n",
        "csv_file = open('traffic_data.csv', mode='w', newline='')\n",
        "csv_writer = csv.writer(csv_file)\n",
        "csv_writer.writerow(['Exit', 'Vehicles Count', 'Traffic State', 'Gate State', 'Empty Area', 'Empty Percentage', 'Timestamp'])\n",
        "\n",
        "# Gate state variable\n",
        "gate_state = \"Open\"\n",
        "\n",
        "# Define the classes you want to count (e.g., motorcycle and car)\n",
        "vehicles_classes = ['motorcycle', 'car',\"bus\",\"truck\"]\n",
        "\n",
        "while cap.isOpened():\n",
        "    ret, frame = cap.read()\n",
        "    if not ret:\n",
        "        break\n",
        "\n",
        "    if frame_count % frame_interval == 0:\n",
        "        timestamp = datetime.now().strftime('%Y-%m-%d %H:%M:%S')\n",
        "\n",
        "        # Perform YOLOv8 inference on the frame\n",
        "        results = model(frame)\n",
        "        cv2.polylines(frame, [right_roi], True, (255, 255, 255), 2)\n",
        "\n",
        "        vehicles_in_roi_count = 0\n",
        "        current_boxes = []\n",
        "        occupied_area = 0\n",
        "\n",
        "        for result in results:\n",
        "            for bbox in result.boxes:\n",
        "                # Convert tensors to integers\n",
        "                xyxy = bbox.xyxy.cpu().numpy().flatten()  # Get box coordinates as a flat array\n",
        "                x1, y1, x2, y2 = map(int, xyxy)  # Extract coordinates\n",
        "                confidence = bbox.conf.item()  # Get confidence level\n",
        "                class_id = int(bbox.cls.item())  # Get class ID\n",
        "                class_name = model.names[class_id]  # Get class name\n",
        "\n",
        "                # Check if the detected class is a vehicle\n",
        "                if class_name not in vehicles_classes:\n",
        "                    continue\n",
        "\n",
        "                # Bounding box as a shapely box object\n",
        "                box_polygon = shapely_box(x1, y1, x2, y2)\n",
        "\n",
        "                # Calculate the intersection between the box and the ROI\n",
        "                intersection_area = right_roi_polygon.intersection(box_polygon).area\n",
        "\n",
        "                if intersection_area > 0:\n",
        "                    # Calculate percentage of bounding box inside the ROI\n",
        "                    percentage_inside = (intersection_area / box_polygon.area) * 100\n",
        "\n",
        "                    # Only count the vehicle if more than 50% of its area is inside the ROI\n",
        "                    if percentage_inside > 50:\n",
        "                        vehicles_in_roi_count += 1\n",
        "                        current_boxes.append((x1, y1, x2, y2))\n",
        "                        occupied_area += intersection_area\n",
        "\n",
        "                        # Draw bounding box and label\n",
        "                        cv2.rectangle(frame, (x1, y1), (x2, y2), (255, 255, 255), 2)\n",
        "                        label = f'{class_name} {confidence:.2f}'\n",
        "                        cv2.putText(frame, label, (x1, y1 - 10), cv2.FONT_HERSHEY_SIMPLEX, 0.5, (255, 255, 255), 2)\n",
        "\n",
        "        # Filter out overlapping boxes\n",
        "        filtered_boxes = []\n",
        "        for box in current_boxes:\n",
        "            if not any(box_iou(box, other_box) > 0.5 for other_box in filtered_boxes):\n",
        "                filtered_boxes.append(box)\n",
        "\n",
        "        vehicles_in_roi_count = len(filtered_boxes)\n",
        "\n",
        "        # حساب المساحة الفارغة\n",
        "        empty_area = roi_area - occupied_area\n",
        "        empty_percentage = (empty_area / roi_area) * 100\n",
        "\n",
        "        # Determine traffic state based on the empty area percentage\n",
        "        if empty_percentage < 20:\n",
        "            traffic_state = 'Heavy'\n",
        "            heavy_frame_counter += 1\n",
        "            medium_or_flow_counter = 0  # Reset the counter for medium/flow\n",
        "        elif empty_percentage < 50:\n",
        "            traffic_state = 'Medium'\n",
        "            heavy_frame_counter = 0  # Reset heavy frame counter\n",
        "            medium_or_flow_counter += 1  # Increment the medium/flow counter\n",
        "        else:\n",
        "            traffic_state = 'Flow'\n",
        "            heavy_frame_counter = 0  # Reset heavy frame counter\n",
        "            medium_or_flow_counter += 1  # Increment the medium/flow counter\n",
        "\n",
        "        # Gate state logic\n",
        "        if heavy_frame_counter >= 2:\n",
        "            gate_state = 'Closed'  # The gate closes if heavy for 60 frames\n",
        "        elif medium_or_flow_counter >= 2:\n",
        "            gate_state = 'Open'  # The gate opens if medium or flow for 60 frames\n",
        "\n",
        "        # Write to CSV\n",
        "        csv_writer.writerow(['Exit 7', vehicles_in_roi_count, traffic_state, gate_state, empty_area, empty_percentage, timestamp])\n",
        "\n",
        "        # Display results on frame\n",
        "        height, width, _ = frame.shape\n",
        "        cv2.putText(frame, f\"Vehicles in ROI: {vehicles_in_roi_count}\", (10, height - 100), cv2.FONT_HERSHEY_SIMPLEX, 0.5, (255, 255, 255), 2)\n",
        "        cv2.putText(frame, f\"Gate State: {gate_state}\", (10, height - 120), cv2.FONT_HERSHEY_SIMPLEX, 0.5, (255, 255, 255), 2)\n",
        "        cv2.putText(frame, f\"Time: {timestamp}\", (10, height - 140), cv2.FONT_HERSHEY_SIMPLEX, 0.5, (255, 255, 255), 2)\n",
        "        cv2.putText(frame, f\"Traffic State: {traffic_state}\", (10, height - 160), cv2.FONT_HERSHEY_SIMPLEX, 0.5, (255, 255, 255), 2)\n",
        "        cv2.putText(frame, f\"Empty Area: {empty_area:.2f}\", (10, height - 180), cv2.FONT_HERSHEY_SIMPLEX, 0.5, (255, 255, 255), 2)\n",
        "        cv2.putText(frame, f\"Empty Percentage: {empty_percentage:.2f}%\", (10, height - 200), cv2.FONT_HERSHEY_SIMPLEX, 0.5, (255, 255, 255), 2)\n",
        "\n",
        "        # Display frame\n",
        "        # cv2_imshow(frame)\n",
        "        out.write(frame)\n",
        "\n",
        "    frame_count += 1\n",
        "\n",
        "    if cv2.waitKey(1) & 0xFF == ord('q'):\n",
        "        break\n",
        "\n",
        "cap.release()\n",
        "out.release()\n",
        "cv2.destroyAllWindows()\n",
        "csv_file.close()\n"
      ],
      "metadata": {
        "id": "F0lEreFk4Y8A"
      },
      "execution_count": null,
      "outputs": []
    }
  ]
}