{
  "nbformat": 4,
  "nbformat_minor": 0,
  "metadata": {
    "colab": {
      "provenance": [],
      "gpuType": "T4"
    },
    "kernelspec": {
      "name": "python3",
      "display_name": "Python 3"
    },
    "language_info": {
      "name": "python"
    },
    "accelerator": "GPU"
  },
  "cells": [
    {
      "cell_type": "code",
      "source": [
        "from google.colab import drive\n",
        "drive.mount('/content/drive')"
      ],
      "metadata": {
        "colab": {
          "base_uri": "https://localhost:8080/"
        },
        "id": "Re6XeNF52BMs",
        "outputId": "ff2e5c97-63a7-4198-f7cb-257f1fdf2831"
      },
      "execution_count": null,
      "outputs": [
        {
          "output_type": "stream",
          "name": "stdout",
          "text": [
            "Mounted at /content/drive\n"
          ]
        }
      ]
    },
    {
      "cell_type": "code",
      "source": [
        "!pip install ultralytics\n",
        "!pip install supervision"
      ],
      "metadata": {
        "id": "sImp5_pI2FEb"
      },
      "execution_count": null,
      "outputs": []
    },
    {
      "cell_type": "code",
      "source": [
        "from ultralytics import YOLO\n",
        "import cv2\n",
        "import numpy as np\n",
        "import supervision as sv\n",
        "import matplotlib.pyplot as plt\n",
        "from google.colab.patches import cv2_imshow\n",
        "import csv\n",
        "from datetime import datetime\n",
        "from shapely.geometry import Polygon, box  # To calculate areas of intersection\n"
      ],
      "metadata": {
        "id": "zMsAMhvwx0VE"
      },
      "execution_count": null,
      "outputs": []
    },
    {
      "cell_type": "code",
      "source": [
        "# Load the model\n",
        "model = YOLO('/content/drive/MyDrive/Model/training_final_upgrade2/weights/best.pt')"
      ],
      "metadata": {
        "id": "3gf7_wPw2Gz-"
      },
      "execution_count": null,
      "outputs": []
    },
    {
      "cell_type": "code",
      "source": [
        "# Path to the video\n",
        "video_path = '/content/the best.mp4'\n",
        "\n",
        "# Capture the video\n",
        "cap = cv2.VideoCapture(video_path)"
      ],
      "metadata": {
        "id": "1Mm4M5QG2Idi"
      },
      "execution_count": null,
      "outputs": []
    },
    {
      "cell_type": "code",
      "source": [
        "# Get video properties\n",
        "width = int(cap.get(cv2.CAP_PROP_FRAME_WIDTH))\n",
        "height = int(cap.get(cv2.CAP_PROP_FRAME_HEIGHT))\n",
        "fps = int(cap.get(cv2.CAP_PROP_FPS))\n",
        "total_frames = int(cap.get(cv2.CAP_PROP_FRAME_COUNT))\n",
        "\n",
        "print(f\"Video dimensions: {width}x{height}\")\n",
        "print(f\"FPS: {fps}\")\n",
        "print(f\"Total frames: {total_frames}\")\n",
        "\n"
      ],
      "metadata": {
        "id": "vjFUy5Pl2J9g"
      },
      "execution_count": null,
      "outputs": []
    },
    {
      "cell_type": "code",
      "source": [
        "# Define the codec and create VideoWriter object\n",
        "fourcc = cv2.VideoWriter_fourcc(*'mp4v')  # Codec for .mp4 files\n",
        "output_path = '/content/the best_pred.mp4' # Path where the output video will be saved\n",
        "out = cv2.VideoWriter(output_path, fourcc, fps, (width, height))"
      ],
      "metadata": {
        "id": "kQdL4-Rf2Lto"
      },
      "execution_count": null,
      "outputs": []
    },
    {
      "cell_type": "code",
      "source": [
        "# Define the callback function for inference\n",
        "def callback(image: np.ndarray) -> sv.Detections:\n",
        "    result = model(image)[0]\n",
        "    return sv.Detections.from_ultralytics(result)\n",
        "\n",
        "# Define the slicer object with the callback function\n",
        "slicer = sv.InferenceSlicer(callback=callback)"
      ],
      "metadata": {
        "id": "plv6RyAUHbe8"
      },
      "execution_count": null,
      "outputs": []
    },
    {
      "cell_type": "code",
      "source": [
        "# Get a frame from the video\n",
        "ret, frame = cap.read()\n",
        "\n",
        "\n",
        "#ROI\n",
        "roi_points = np.array([[400, 300], [340, 500], [720, 500], [540, 300]], np.int32)\n",
        "roi_points = roi_points.reshape((-1, 1, 2))  # Reshape for polylines\n",
        "\n",
        "\n",
        "cv2.polylines(frame, [roi_points], isClosed=True, color=(255, 255, 0), thickness=3)  # Draw ROI in white\n",
        "\n",
        "# Display the frame with the ROI\n",
        "plt.figure(figsize=(10, 10)) #Removed extra indentation\n",
        "plt.imshow(cv2.cvtColor(frame, cv2.COLOR_BGR2RGB))\n",
        "plt.title(\"Initial Frame with ROI\")\n",
        "plt.show()"
      ],
      "metadata": {
        "id": "E-3cx3PV2PyS"
      },
      "execution_count": null,
      "outputs": []
    },
    {
      "cell_type": "markdown",
      "source": [
        "\n",
        "\n",
        "#Counting"
      ],
      "metadata": {
        "id": "WjIWgE_MZEVw"
      }
    },
    {
      "cell_type": "code",
      "source": [
        "# Define your ROI for counting vehicles\n",
        "right_roi = np.array([[400, 300], [340, 500], [720, 500], [540, 300]], np.int32)\n",
        "right_roi_polygon = Polygon(right_roi.reshape(-1, 2))  # Create a Shapely polygon for the ROI\n",
        "\n",
        "if not cap.isOpened():\n",
        "    print(\"Error: Could not open video.\")\n",
        "    exit()\n",
        "\n",
        "# Get video FPS\n",
        "fps = cap.get(cv2.CAP_PROP_FPS)\n",
        "frame_interval = 1\n",
        "\n",
        "frame_count = 0\n",
        "heavy_frame_counter = 0\n",
        "medium_or_flow_counter = 0\n",
        "\n",
        "# CSV file setup\n",
        "csv_file = open('traffic_data.csv', mode='w', newline='')\n",
        "csv_writer = csv.writer(csv_file)\n",
        "csv_writer.writerow(['Exit', 'City','Street','Timestamp','Vehicles Count', 'Traffic State', 'Gate State'])\n",
        "\n",
        "# Gate state variable\n",
        "gate_state = \"Open\"\n",
        "\n",
        "while cap.isOpened():\n",
        "    ret, frame = cap.read()\n",
        "    if not ret:\n",
        "        break\n",
        "\n",
        "    if frame_count % frame_interval == 0:\n",
        "        timestamp = datetime.now().strftime('%Y-%m-%d %H:%M:%S')\n",
        "\n",
        "        # Perform YOLOv8 inference on the frame\n",
        "        sliced_detections = slicer(image=frame)\n",
        "\n",
        "        if isinstance(sliced_detections, tuple):\n",
        "            sliced_detections = sv.Detections(*sliced_detections)\n",
        "\n",
        "        results = model(frame)\n",
        "        cv2.polylines(frame, [right_roi], True, (255, 255, 255), 2)\n",
        "\n",
        "        vehicles_in_roi_count = 0\n",
        "\n",
        "        for result in results:\n",
        "            for i in range(len(sliced_detections.xyxy)):\n",
        "                x1, y1, x2, y2 = map(int, sliced_detections.xyxy[i])\n",
        "                confidence = sliced_detections.confidence[i]\n",
        "                class_id = sliced_detections.class_id[i]\n",
        "                class_name = model.names[class_id]\n",
        "\n",
        "                # Bounding box as a shapely box object\n",
        "                box_polygon = box(x1, y1, x2, y2)\n",
        "\n",
        "                # Calculate the intersection between the box and the ROI\n",
        "                intersection_area = right_roi_polygon.intersection(box_polygon).area\n",
        "\n",
        "                if intersection_area > 0:\n",
        "                    # Calculate percentage of bounding box inside the ROI\n",
        "                    percentage_inside = (intersection_area / box_polygon.area) * 100\n",
        "\n",
        "                    # Only count the vehicle if more than 50% of its area is inside the ROI\n",
        "                    if percentage_inside > 50:\n",
        "                        vehicles_in_roi_count += 1\n",
        "\n",
        "                        # Draw bounding box and label\n",
        "                        cv2.rectangle(frame, (x1, y1), (x2, y2), (255, 255, 255), 2)\n",
        "                        label = f'{class_name} {confidence:.2f}'\n",
        "                        cv2.putText(frame, label, (x1, y1 - 10), cv2.FONT_HERSHEY_SIMPLEX, 0.5, (255, 255, 255), 2)\n",
        "\n",
        "        # Determine traffic state based on the number of vehicles in the ROI\n",
        "        if vehicles_in_roi_count >= 20:\n",
        "            traffic_state = 'Heavy'\n",
        "            heavy_frame_counter += 1\n",
        "            medium_or_flow_counter = 0  # Reset the counter for medium/flow\n",
        "        elif vehicles_in_roi_count >= 15:\n",
        "            traffic_state = 'Medium'\n",
        "            heavy_frame_counter = 0  # Reset heavy frame counter\n",
        "            medium_or_flow_counter += 1  # Increment the medium/flow counter\n",
        "        else:\n",
        "            traffic_state = 'Flow'\n",
        "            heavy_frame_counter = 0  # Reset heavy frame counter\n",
        "            medium_or_flow_counter += 1  # Increment the medium/flow counter\n",
        "\n",
        "        # Gate state logic\n",
        "        if heavy_frame_counter >=2:\n",
        "            gate_state = 'Closed'  # The gate closes if heavy for 60 frames\n",
        "        elif medium_or_flow_counter >= 2:\n",
        "            gate_state = 'Open'  # The gate opens if medium or flow for 60 frames\n",
        "\n",
        "        # Write to CSV with City included\n",
        "        csv_writer.writerow(['Exit 9', 'Riyadh','Al Hamra',timestamp, vehicles_in_roi_count, traffic_state, gate_state])\n",
        "\n",
        "        # Display results on frame\n",
        "        height, width, _ = frame.shape\n",
        "        cv2.putText(frame, f\"Vehicles in ROI: {vehicles_in_roi_count}\", (10, height - 60), cv2.FONT_HERSHEY_SIMPLEX, 0.5, (255, 255, 255), 2)\n",
        "        cv2.putText(frame, f\"Gate State: {gate_state}\", (10, height - 30), cv2.FONT_HERSHEY_SIMPLEX, 0.5, (255, 255, 255), 2)\n",
        "        cv2.putText(frame, f\"Time: {timestamp}\", (10, height - 90), cv2.FONT_HERSHEY_SIMPLEX, 0.5, (255, 255, 255), 2)\n",
        "        cv2.putText(frame, f\"Traffic State: {traffic_state}\", (10, height - 120), cv2.FONT_HERSHEY_SIMPLEX, 0.5, (255, 255, 255), 2)\n",
        "\n",
        "        # Display frame\n",
        "        cv2_imshow(frame)\n",
        "        out.write(frame)\n",
        "\n",
        "    frame_count += 1\n",
        "\n",
        "    if cv2.waitKey(1) & 0xFF == ord('q'):\n",
        "        break\n",
        "\n",
        "cap.release()\n",
        "out.release()\n",
        "cv2.destroyAllWindows()\n",
        "csv_file.close()\n"
      ],
      "metadata": {
        "id": "2H45KWSiHCOB"
      },
      "execution_count": null,
      "outputs": []
    }
  ]
}